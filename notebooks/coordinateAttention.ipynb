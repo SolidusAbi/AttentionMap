{
 "cells": [
  {
   "cell_type": "code",
   "execution_count": 79,
   "metadata": {},
   "outputs": [
    {
     "data": {
      "image/png": "[encoded data removed]",
      "text/plain": [
       "<Figure size 432x288 with 2 Axes>"
      ]
     },
     "metadata": {
      "needs_background": "light"
     },
     "output_type": "display_data"
    }
   ],
   "source": [
    "import os, sys\n",
    "project_dir = os.path.join(os.getcwd(),'..')\n",
    "if project_dir not in sys.path:\n",
    "    sys.path.append(project_dir)\n",
    "\n",
    "\n",
    "sparse_dir = os.path.join(project_dir, 'modules/Sparse')\n",
    "if sparse_dir not in sys.path:\n",
    "    sys.path.append(sparse_dir)\n",
    "    \n",
    "import torch\n",
    "from matplotlib import pyplot as plt\n",
    "\n",
    "a = torch.rand(1,3,8,8)\n",
    "N,C,H,W = a.size()\n",
    "plt.imshow(a[0,0])\n",
    "plt.colorbar()\n",
    "plt.show()"
   ]
  },
  {
   "cell_type": "code",
   "execution_count": 80,
   "metadata": {},
   "outputs": [
    {
     "name": "stdout",
     "output_type": "stream",
     "text": [
      "torch.Size([1, 3, 8, 1])\n",
      "torch.Size([1, 3, 1, 8])\n"
     ]
    },
    {
     "data": {
      "image/png": "[encoded data removed]",
      "text/plain": [
       "<Figure size 432x288 with 2 Axes>"
      ]
     },
     "metadata": {
      "needs_background": "light"
     },
     "output_type": "display_data"
    }
   ],
   "source": [
    "from torch import nn\n",
    "conv_c = nn.Conv2d(C, 1, 1, bias=False)\n",
    "conv_h = nn.Conv2d(C, C, (1, W), bias=False, groups=C)\n",
    "conv_w = nn.Conv2d(C, C, (H, 1), bias=True, groups=C)\n",
    "act = nn.SELU()\n",
    "# act = nn.Softmax(dim=2)\n",
    "\n",
    "x_h = conv_h(a)\n",
    "x_w = conv_w(a)\n",
    "\n",
    "print(x_h.shape)\n",
    "print(x_w.shape)\n",
    "# print(torch.relu(x_h+x_w).shape)\n",
    "\n",
    "result = conv_c(act(x_h+x_w)).detach()\n",
    "# result = torch.softmax(result.view(N,1,-1), dim=2).view(N,1,W,H)\n",
    "plt.imshow(result[0,0])\n",
    "plt.colorbar()\n",
    "plt.show()"
   ]
  },
  {
   "cell_type": "code",
   "execution_count": 81,
   "metadata": {},
   "outputs": [
    {
     "data": {
      "image/png": "[encoded data removed]",
      "text/plain": [
       "<Figure size 432x288 with 2 Axes>"
      ]
     },
     "metadata": {
      "needs_background": "light"
     },
     "output_type": "display_data"
    }
   ],
   "source": [
    "f = torch.mul(result.expand_as(a), a) \n",
    "plt.imshow(f[0,1])\n",
    "plt.colorbar()\n",
    "plt.show()"
   ]
  },
  {
   "cell_type": "markdown",
   "metadata": {},
   "source": [
    "# 1st Test"
   ]
  },
  {
   "cell_type": "code",
   "execution_count": 102,
   "metadata": {},
   "outputs": [],
   "source": [
    "from torch.nn import functional as F\n",
    "class CoordAttentionBlock(nn.Module):\n",
    "    def __init__(self, n_channels: int, img_size: tuple) -> None:\n",
    "        super(CoordAttentionBlock, self).__init__()\n",
    "        C = n_channels\n",
    "        H, W = img_size\n",
    "        \n",
    "        self.conv_c = nn.Conv2d(C, 1, 1, bias=False)\n",
    "        # self.conv_h = nn.Conv2d(C, 1, (1, W), bias=False)\n",
    "        # self.conv_w = nn.Conv2d(C, 1, (H, 1), bias=False)\n",
    "        self.conv_h = nn.Conv2d(C, C, (1, W), bias=False, groups=C)\n",
    "        self.conv_w = nn.Conv2d(C, C, (H, 1), bias=True, groups=C)\n",
    "        # self.act = nn.Softmax(1)\n",
    "\n",
    "    def forward(self, x: torch.Tensor) -> torch.Tensor:\n",
    "        N,C,H,W = x.size()\n",
    "        x_h = self.conv_h(x)\n",
    "        x_w = self.conv_w(x)\n",
    "\n",
    "        c = self.conv_c(torch.sigmoid(x_h+x_w))\n",
    "        # c = self.conv_c(x_h+torch.sigmoid(x_w))\n",
    "        # c = torch.relu(x_h+x_w)\n",
    "        \n",
    "        a = torch.softmax(c.view(N,1,-1), dim=2).view(N,1,W,H)\n",
    "        f = torch.mul(a.expand_as(x), x)\n",
    "        output = f.view(N,C,-1).sum(dim=2)\n",
    "        \n",
    "        return c, output"
   ]
  },
  {
   "cell_type": "code",
   "execution_count": 103,
   "metadata": {},
   "outputs": [],
   "source": [
    "class ConvTestBlock(nn.Module):\n",
    "    def __init__(self, in_channels, out_channels, img_size: tuple) -> None:\n",
    "        super(ConvTestBlock, self).__init__()\n",
    "        self.conv = nn.Sequential(*[\n",
    "            nn.Conv2d(in_channels, out_channels, 3, padding=1),\n",
    "            nn.BatchNorm2d(out_channels),\n",
    "            nn.ReLU()\n",
    "        ])\n",
    "\n",
    "        self.coordAttBlock = CoordAttentionBlock(out_channels, img_size)\n",
    "\n",
    "    def forward(self, x:torch.Tensor) -> torch.Tensor:\n",
    "        x = self.conv(x)\n",
    "        attention = self.coordAttBlock(x)\n",
    "        \n",
    "        return torch.mul(attention.expand_as(x), x)"
   ]
  },
  {
   "cell_type": "code",
   "execution_count": 107,
   "metadata": {},
   "outputs": [],
   "source": [
    "class Model(nn.Module):\n",
    "    def __init__(self, ) -> None:\n",
    "        super(Model, self).__init__()\n",
    "        self.l1 = nn.Sequential(*[\n",
    "            nn.Conv2d(3, 64, 3, padding=1),\n",
    "            nn.BatchNorm2d(64),\n",
    "            nn.ReLU(),\n",
    "            nn.Conv2d(64, 64, 3, padding=1),\n",
    "            nn.BatchNorm2d(64),\n",
    "            nn.ReLU(),\n",
    "            nn.MaxPool2d(2)\n",
    "        ])\n",
    "        self.l2 = nn.Sequential(*[\n",
    "            nn.Conv2d(64, 128, 3, padding=1),\n",
    "            nn.BatchNorm2d(128),\n",
    "            nn.ReLU(),\n",
    "            nn.Conv2d(128, 128, 3, padding=1),\n",
    "            nn.BatchNorm2d(128),\n",
    "            nn.ReLU(),\n",
    "            nn.MaxPool2d(2)\n",
    "        ])\n",
    "        self.l3 = nn.Sequential(*[\n",
    "            nn.Conv2d(128, 256, 3, padding=1),\n",
    "            nn.BatchNorm2d(256),\n",
    "            nn.ReLU(),\n",
    "            nn.Conv2d(256, 256, 3, padding=1),\n",
    "            nn.BatchNorm2d(256),\n",
    "            nn.ReLU(),\n",
    "            nn.MaxPool2d(2)\n",
    "        ])\n",
    "\n",
    "        self.classifier = nn.Sequential(*[\n",
    "            nn.Linear(64+128+256,32),\n",
    "            nn.ReLU(),\n",
    "            nn.Linear(32,10)\n",
    "        ])\n",
    "\n",
    "        img_size = 32\n",
    "        self.coordAttBlock_l1 = CoordAttentionBlock(64, (int(img_size/2**1), int(img_size/2**1)) )\n",
    "        self.coordAttBlock_l2 = CoordAttentionBlock(128, (int(img_size/2**2), int(img_size/2**2)) )\n",
    "        self.coordAttBlock_l3 = CoordAttentionBlock(256, (int(img_size/2**3), int(img_size/2**3)) )\n",
    "\n",
    "    def forward(self, x:torch.Tensor) -> torch.Tensor:\n",
    "        x_l1 = self.l1(x)\n",
    "        x_l2 = self.l2(x_l1)\n",
    "        x_l3 = self.l3(x_l2)\n",
    "\n",
    "        c1, g1 = self.coordAttBlock_l1(x_l1)\n",
    "        c2, g2 = self.coordAttBlock_l2(x_l2)\n",
    "        c3, g3 = self.coordAttBlock_l3(x_l3)\n",
    "\n",
    "        g = torch.cat((g1,g2,g3), dim=1)\n",
    "        y_hat = self.classifier(g)\n",
    "\n",
    "        return (y_hat, c1, c2, c3)"
   ]
  },
  {
   "cell_type": "code",
   "execution_count": 99,
   "metadata": {},
   "outputs": [],
   "source": [
    "class Model(nn.Module):\n",
    "    def __init__(self, ) -> None:\n",
    "        super(Model, self).__init__()\n",
    "        self.l1 = nn.Sequential(*[\n",
    "            nn.Conv2d(1, 3, 3, padding=1),\n",
    "            nn.ReLU(),\n",
    "            nn.MaxPool2d(2)\n",
    "        ])\n",
    "        self.l2 = nn.Sequential(*[\n",
    "            nn.Conv2d(3, 6, 3, padding=1),\n",
    "            nn.ReLU(),\n",
    "            nn.MaxPool2d(2)\n",
    "        ])\n",
    "        self.l3 = nn.Sequential(*[\n",
    "            nn.Conv2d(6, 8, 3, padding=1),\n",
    "            nn.ReLU(),\n",
    "            nn.MaxPool2d(2)\n",
    "        ])\n",
    "\n",
    "        self.classifier = nn.Sequential(*[\n",
    "            nn.Linear(3+6+8,10)\n",
    "        ])\n",
    "\n",
    "        img_size = 32\n",
    "        self.coordAttBlock_l1 = CoordAttentionBlock(3, (int(img_size/2**1), int(img_size/2**1)) )\n",
    "        self.coordAttBlock_l2 = CoordAttentionBlock(6, (int(img_size/2**2), int(img_size/2**2)) )\n",
    "        self.coordAttBlock_l3 = CoordAttentionBlock(8, (int(img_size/2**3), int(img_size/2**3)) )\n",
    "\n",
    "    def forward(self, x:torch.Tensor) -> torch.Tensor:\n",
    "        x_l1 = self.l1(x)\n",
    "        x_l2 = self.l2(x_l1)\n",
    "        x_l3 = self.l3(x_l2)\n",
    "\n",
    "        c1, g1 = self.coordAttBlock_l1(x_l1)\n",
    "        c2, g2 = self.coordAttBlock_l2(x_l2)\n",
    "        c3, g3 = self.coordAttBlock_l3(x_l3)\n",
    "\n",
    "        g = torch.cat((g1,g2,g3), dim=1)\n",
    "        y_hat = self.classifier(g)\n",
    "\n",
    "        return (y_hat, c1, c2, c3)"
   ]
  },
  {
   "cell_type": "markdown",
   "metadata": {},
   "source": [
    "## Dataset"
   ]
  },
  {
   "cell_type": "code",
   "execution_count": 108,
   "metadata": {},
   "outputs": [
    {
     "name": "stdout",
     "output_type": "stream",
     "text": [
      "Files already downloaded and verified\n",
      "Files already downloaded and verified\n"
     ]
    }
   ],
   "source": [
    "from torch.utils.data import DataLoader\n",
    "from torchvision.datasets import MNIST, CIFAR10\n",
    "from torchvision.transforms import Compose, ToTensor, Resize\n",
    "\n",
    "transform = Compose([Resize(32), ToTensor()])\n",
    "# train_dataset = MNIST('dataset/', train=True, transform=transform, download=True)\n",
    "train_dataset = CIFAR10('dataset/', train=True, transform=transform, download=True)\n",
    "train_loader = DataLoader(train_dataset, batch_size=128, shuffle=True)\n",
    "\n",
    "# test_dataset = MNIST('dataset/', train=False, transform=transform, download=True)\n",
    "test_dataset = CIFAR10('dataset/', train=False, transform=transform, download=True)\n",
    "test_loader = DataLoader(test_dataset, batch_size=128, shuffle=False)\n",
    "\n",
    "img_size = 32"
   ]
  },
  {
   "cell_type": "code",
   "execution_count": 109,
   "metadata": {},
   "outputs": [
    {
     "name": "stderr",
     "output_type": "stream",
     "text": [
      "100%|██████████| 15/15 [03:10<00:00, 12.69s/epoch, tls=0.4447]\n"
     ]
    }
   ],
   "source": [
    "from torch.utils.tensorboard import SummaryWriter\n",
    "import torchvision.utils as utils\n",
    "from AttentionMap.utils import visualize_attention\n",
    "from tqdm import tqdm\n",
    "\n",
    "model = Model()\n",
    "model.train()\n",
    "\n",
    "optimizer = torch.optim.Adam(model.parameters(), lr=1e-3, weight_decay=1e-5)\n",
    "criterion = nn.CrossEntropyLoss()\n",
    "\n",
    "device = 'cuda' if torch.cuda.is_available() else 'cpu'\n",
    "model = model.to(device)\n",
    "\n",
    "tb_writer = SummaryWriter('log/CoordAttention/CIFAR')\n",
    "running_avg_accuracy = 0\n",
    "step = 0\n",
    "\n",
    "# TMP\n",
    "log_images = True\n",
    "n_epoch = 15\n",
    "\n",
    "epoch_iterator = tqdm(\n",
    "        range(n_epoch),\n",
    "        leave=True,\n",
    "        unit=\"epoch\",\n",
    "        postfix={\"tls\": \"%.4f\" % 1},\n",
    "    )\n",
    "\n",
    "for epoch in epoch_iterator:\n",
    "    model.eval()\n",
    "    total = 0\n",
    "    correct = 0\n",
    "    with torch.no_grad():\n",
    "        # log scalars\n",
    "        images_disp = []\n",
    "        for i, data in enumerate(test_loader, 0):\n",
    "                images_test, labels_test = data\n",
    "                images_test, labels_test = images_test.to(device), labels_test.to(device)\n",
    "                pred_test, c1, c2, c3 = model(images_test)\n",
    "                predict = torch.argmax(pred_test, 1)\n",
    "                total += labels_test.size(0)\n",
    "                correct += torch.eq(predict, labels_test).sum().double().item()\n",
    "                \n",
    "        tb_writer.add_scalar('test/accuracy', correct/total, epoch)\n",
    "\n",
    "        n_rows=4\n",
    "        n_images = 24\n",
    "        activation = 'softmax'\n",
    "        # C1\n",
    "        scale_factor = 2**1\n",
    "        vis = visualize_attention(n_rows, images_test[:n_images], c1[:n_images], scale_factor, activation=activation)\n",
    "        tb_writer.add_image('Attention/C1', vis, epoch)\n",
    "\n",
    "        # C2\n",
    "        scale_factor = 2**2\n",
    "        vis = visualize_attention(n_rows, images_test[:n_images], c2[:n_images], scale_factor, activation=activation)\n",
    "        tb_writer.add_image('Attention/C2', vis, epoch)\n",
    "\n",
    "        # C3\n",
    "        scale_factor = 2**3\n",
    "        vis = visualize_attention(n_rows, images_test[:n_images], c3[:n_images], scale_factor, activation=activation)\n",
    "        tb_writer.add_image('Attention/C3', vis, epoch)\n",
    "\n",
    "    model.train()\n",
    "    for idx, (inputs, targets) in enumerate(train_loader):\n",
    "        optimizer.zero_grad()\n",
    "\n",
    "        inputs = inputs.to(device)\n",
    "        targets = targets.to(device)\n",
    "        pred, __, __, __ = model(inputs)\n",
    "\n",
    "        loss = criterion(pred, targets)\n",
    "        loss.backward()\n",
    "        optimizer.step()\n",
    "\n",
    "        if idx % 250 == 0:\n",
    "            model.eval()\n",
    "            pred, __, __, __ = model(inputs)\n",
    "            predict = torch.argmax(pred, 1)\n",
    "            total = targets.size(0)\n",
    "            correct = torch.eq(predict, targets).sum().double().item()\n",
    "            accuracy = correct / total\n",
    "            running_avg_accuracy = 0.6*running_avg_accuracy + 0.4*accuracy\n",
    "            tb_writer.add_scalar('train/loss', loss.item(), step)\n",
    "            tb_writer.add_scalar('train/accuracy', accuracy, step)\n",
    "            tb_writer.add_scalar('train/running_avg_accuracy', running_avg_accuracy, step)\n",
    "            step += 1\n",
    "\n",
    "            epoch_iterator.set_postfix(tls=\"%.4f\" % loss.item())            "
   ]
  },
  {
   "cell_type": "code",
   "execution_count": 113,
   "metadata": {},
   "outputs": [
    {
     "data": {
      "image/png": "[encoded data removed]",
      "text/plain": [
       "<Figure size 432x288 with 2 Axes>"
      ]
     },
     "metadata": {
      "needs_background": "light"
     },
     "output_type": "display_data"
    },
    {
     "data": {
      "image/png": "[encoded data removed]",
      "text/plain": [
       "<Figure size 432x288 with 2 Axes>"
      ]
     },
     "metadata": {
      "needs_background": "light"
     },
     "output_type": "display_data"
    },
    {
     "data": {
      "image/png": "[encoded data removed]",
      "text/plain": [
       "<Figure size 432x288 with 2 Axes>"
      ]
     },
     "metadata": {
      "needs_background": "light"
     },
     "output_type": "display_data"
    }
   ],
   "source": [
    "plt.imshow(c1[0,0].detach().cpu())\n",
    "plt.colorbar()\n",
    "plt.show()\n",
    "plt.imshow(c2[0,0].detach().cpu())\n",
    "plt.colorbar()\n",
    "plt.show()\n",
    "plt.imshow(c3[0,0].detach().cpu())\n",
    "plt.colorbar()\n",
    "plt.show()"
   ]
  },
  {
   "cell_type": "code",
   "execution_count": 114,
   "metadata": {},
   "outputs": [
    {
     "data": {
      "image/png": "[encoded data removed]",
      "text/plain": [
       "<Figure size 432x288 with 2 Axes>"
      ]
     },
     "metadata": {
      "needs_background": "light"
     },
     "output_type": "display_data"
    }
   ],
   "source": [
    "plt.imshow(input[0,0].detach().cpu())\n",
    "plt.colorbar()\n",
    "plt.show()"
   ]
  },
  {
   "cell_type": "code",
   "execution_count": null,
   "metadata": {},
   "outputs": [],
   "source": []
  }
 ],
 "metadata": {
  "interpreter": {
   "hash": "15b37510c40f952771730cdce6ed2555d8094a99b7d6886f5b16bebe3e0bdfae"
  },
  "kernelspec": {
   "display_name": "Python 3.9.7 ('HySpecLab')",
   "language": "python",
   "name": "python3"
  },
  "language_info": {
   "codemirror_mode": {
    "name": "ipython",
    "version": 3
   },
   "file_extension": ".py",
   "mimetype": "text/x-python",
   "name": "python",
   "nbconvert_exporter": "python",
   "pygments_lexer": "ipython3",
   "version": "3.9.7"
  },
  "orig_nbformat": 4
 },
 "nbformat": 4,
 "nbformat_minor": 2
}
