{
 "cells": [
  {
   "cell_type": "code",
   "execution_count": null,
   "metadata": {},
   "outputs": [],
   "source": [
    "import torch\n",
    "from matplotlib import pyplot as plt\n",
    "\n",
    "a = torch.rand(1,3,8,8)\n",
    "N,C,H,W = a.size()\n",
    "plt.imshow(a[0,0])\n",
    "plt.colorbar()\n",
    "plt.show()"
   ]
  },
  {
   "cell_type": "code",
   "execution_count": null,
   "metadata": {},
   "outputs": [],
   "source": [
    "from torch import nn\n",
    "conv_c = nn.Conv2d(C, 1, 1, bias=False)\n",
    "conv_h = nn.Conv2d(C, C, (1, W), bias=False, groups=C)\n",
    "conv_w = nn.Conv2d(C, C, (H, 1), bias=True, groups=C)\n",
    "act = nn.SELU()\n",
    "# act = nn.Softmax(dim=2)\n",
    "\n",
    "x_h = conv_h(a)\n",
    "x_w = conv_w(a)\n",
    "\n",
    "print(x_h.shape)\n",
    "print(x_w.shape)\n",
    "# print(torch.relu(x_h+x_w).shape)\n",
    "\n",
    "result = conv_c(act(x_h+x_w)).detach()\n",
    "# result = torch.softmax(result.view(N,1,-1), dim=2).view(N,1,W,H)\n",
    "plt.imshow(result[0,0])\n",
    "plt.colorbar()\n",
    "plt.show()"
   ]
  },
  {
   "cell_type": "code",
   "execution_count": null,
   "metadata": {},
   "outputs": [],
   "source": [
    "f = torch.mul(result.expand_as(a), a) \n",
    "plt.imshow(f[0,1])\n",
    "plt.colorbar()\n",
    "plt.show()"
   ]
  },
  {
   "cell_type": "markdown",
   "metadata": {},
   "source": [
    "# 1st Test"
   ]
  },
  {
   "cell_type": "code",
   "execution_count": null,
   "metadata": {},
   "outputs": [],
   "source": [
    "from torch.nn import functional as F\n",
    "class CoordAttentionBlock(nn.Module):\n",
    "    def __init__(self, n_channels: int, img_size: tuple) -> None:\n",
    "        super(CoordAttentionBlock, self).__init__()\n",
    "        C = n_channels\n",
    "        H, W = img_size\n",
    "        \n",
    "        self.conv_c = nn.Conv2d(C, 1, 1, bias=False)\n",
    "        self.conv_h = nn.Conv2d(C, C, (1, W), bias=False)\n",
    "        self.conv_w = nn.Conv2d(C, C, (H, 1), bias=True)\n",
    "        # self.conv_h = nn.Conv2d(C, C, (1, W), bias=False, groups=C)\n",
    "        # self.conv_w = nn.Conv2d(C, C, (H, 1), bias=False, groups=C)\n",
    "        # self.act = nn.Softmax(1)\n",
    "\n",
    "    def forward(self, x: torch.Tensor) -> torch.Tensor:\n",
    "        N,C,H,W = x.size()\n",
    "        x_h = self.conv_h(x)\n",
    "        x_w = self.conv_w(x)\n",
    "\n",
    "        # c = self.conv_c(torch.relu(x_h+x_w))\n",
    "        c = self.conv_c(x_h+torch.sigmoid(x_w))\n",
    "        # c = F.relu(self.conv_c((x_h+x_w)))\n",
    "        \n",
    "        a = torch.softmax(c.view(N,1,-1), dim=2).view(N,1,W,H)\n",
    "        f = torch.mul(a.expand_as(x), x)\n",
    "        output = f.view(N,C,-1).sum(dim=2)\n",
    "\n",
    "        return c, output"
   ]
  },
  {
   "cell_type": "code",
   "execution_count": null,
   "metadata": {},
   "outputs": [],
   "source": [
    "class ConvTestBlock(nn.Module):\n",
    "    def __init__(self, in_channels, out_channels, img_size: tuple) -> None:\n",
    "        super(ConvTestBlock, self).__init__()\n",
    "        self.conv = nn.Sequential(*[\n",
    "            nn.Conv2d(in_channels, out_channels, 3, padding=1),\n",
    "            nn.BatchNorm2d(out_channels),\n",
    "            nn.ReLU()\n",
    "        ])\n",
    "\n",
    "        self.coordAttBlock = CoordAttentionBlock(out_channels, img_size)\n",
    "\n",
    "    def forward(self, x:torch.Tensor) -> torch.Tensor:\n",
    "        x = self.conv(x)\n",
    "        attention = self.coordAttBlock(x)\n",
    "        \n",
    "        return torch.mul(attention.expand_as(x), x)"
   ]
  },
  {
   "cell_type": "code",
   "execution_count": null,
   "metadata": {},
   "outputs": [],
   "source": [
    "class Model(nn.Module):\n",
    "    def __init__(self, ) -> None:\n",
    "        super(Model, self).__init__()\n",
    "        self.l1 = nn.Sequential(*[\n",
    "            nn.Conv2d(3, 16, 3, padding=1),\n",
    "            nn.BatchNorm2d(16),\n",
    "            nn.ReLU(),\n",
    "            nn.Conv2d(16, 16, 3, padding=1),\n",
    "            nn.BatchNorm2d(16),\n",
    "            nn.ReLU(),\n",
    "            nn.MaxPool2d(2)\n",
    "        ])\n",
    "        self.l2 = nn.Sequential(*[\n",
    "            nn.Conv2d(16, 24, 3, padding=1),\n",
    "            nn.BatchNorm2d(24),\n",
    "            nn.ReLU(),\n",
    "            nn.Conv2d(24, 24, 3, padding=1),\n",
    "            nn.BatchNorm2d(24),\n",
    "            nn.ReLU(),\n",
    "            nn.MaxPool2d(2)\n",
    "        ])\n",
    "        self.l3 = nn.Sequential(*[\n",
    "            nn.Conv2d(24, 32, 3, padding=1),\n",
    "            nn.BatchNorm2d(32),\n",
    "            nn.ReLU(),\n",
    "            nn.Conv2d(32, 32, 3, padding=1),\n",
    "            nn.BatchNorm2d(32),\n",
    "            nn.ReLU(),\n",
    "            nn.MaxPool2d(2)\n",
    "        ])\n",
    "\n",
    "        self.classifier = nn.Sequential(*[\n",
    "            nn.Linear(16+24+32,32),\n",
    "            nn.ReLU(),\n",
    "            nn.Linear(32,10)\n",
    "        ])\n",
    "\n",
    "        img_size = 32\n",
    "        self.coordAttBlock_l1 = CoordAttentionBlock(16, (int(img_size/2**1), int(img_size/2**1)) )\n",
    "        self.coordAttBlock_l2 = CoordAttentionBlock(24, (int(img_size/2**2), int(img_size/2**2)) )\n",
    "        self.coordAttBlock_l3 = CoordAttentionBlock(32, (int(img_size/2**3), int(img_size/2**3)) )\n",
    "\n",
    "    def forward(self, x:torch.Tensor) -> torch.Tensor:\n",
    "        x_l1 = self.l1(x)\n",
    "        x_l2 = self.l2(x_l1)\n",
    "        x_l3 = self.l3(x_l2)\n",
    "\n",
    "        c1, g1 = self.coordAttBlock_l1(x_l1)\n",
    "        c2, g2 = self.coordAttBlock_l2(x_l2)\n",
    "        c3, g3 = self.coordAttBlock_l3(x_l3)\n",
    "\n",
    "        g = torch.cat((g1,g2,g3), dim=1)\n",
    "        y_hat = self.classifier(g)\n",
    "\n",
    "        return (y_hat, c1, c2, c3)"
   ]
  },
  {
   "cell_type": "markdown",
   "metadata": {},
   "source": [
    "## Dataset"
   ]
  },
  {
   "cell_type": "code",
   "execution_count": null,
   "metadata": {},
   "outputs": [],
   "source": [
    "from torch.utils.data import DataLoader\n",
    "from torchvision.datasets import MNIST, CIFAR10\n",
    "from torchvision.transforms import Compose, ToTensor\n",
    "\n",
    "transform = Compose([ToTensor()])\n",
    "# dataset = MNIST('dataset/', train=True, transform=transform, download=True)\n",
    "train_dataset = CIFAR10('dataset/', train=True, transform=transform, download=True)\n",
    "train_loader = DataLoader(train_dataset, batch_size=128, shuffle=True)\n",
    "\n",
    "test_dataset = CIFAR10('dataset/', train=False, transform=transform, download=True)\n",
    "test_loader = DataLoader(test_dataset, batch_size=128, shuffle=False)\n",
    "\n",
    "img_size = 32"
   ]
  },
  {
   "cell_type": "code",
   "execution_count": null,
   "metadata": {},
   "outputs": [],
   "source": [
    "# linear_input = int((img_size/4 * img_size/4) * 64)\n",
    "# model = nn.Sequential(*[\n",
    "#     nn.Conv2d(3,32,3,padding=1),\n",
    "#     nn.BatchNorm2d(32),\n",
    "#     nn.ReLU(),\n",
    "#     nn.MaxPool2d(2),\n",
    "#     ConvTestBlock(32, 64, (int(img_size/2), int(img_size/2))),\n",
    "#     nn.MaxPool2d(2),\n",
    "#     nn.Flatten(1),\n",
    "#     nn.Linear(linear_input, 32),\n",
    "#     nn.ReLU(),\n",
    "#     nn.Linear(32, 10)\n",
    "# ])\n",
    "\n",
    "model = Model()"
   ]
  },
  {
   "cell_type": "code",
   "execution_count": null,
   "metadata": {},
   "outputs": [],
   "source": [
    "from tqdm import tqdm\n",
    "import numpy as np\n",
    "\n",
    "n_epoch = 10\n",
    "optimizer = torch.optim.Adam(model.parameters(), lr=1e-2, weight_decay=1e-5)\n",
    "criterion = nn.CrossEntropyLoss()\n",
    "\n",
    "device = 'cuda' if torch.cuda.is_available() else 'cpu'\n",
    "\n",
    "model = model.to(device)\n",
    "\n",
    "epoch_iterator = tqdm(\n",
    "        range(n_epoch),\n",
    "        leave=True,\n",
    "        unit=\"epoch\",\n",
    "        postfix={\"tls\": \"%.4f\" % 1},\n",
    "    )\n",
    "\n",
    "for epoch in epoch_iterator:\n",
    "    for idx, (input, target) in enumerate(train_loader):\n",
    "        input = input.to(device)\n",
    "        target = target.to(device)\n",
    "\n",
    "        out, c1, c2, c3 = model(input)\n",
    "        loss = criterion(out, target)\n",
    "\n",
    "        if idx % 250 == 0:\n",
    "            epoch_iterator.set_postfix(tls=\"%.4f\" % np.mean(loss.detach().item()))\n",
    "\n",
    "        optimizer.zero_grad()\n",
    "        loss.backward()\n",
    "        optimizer.step()"
   ]
  },
  {
   "cell_type": "code",
   "execution_count": 129,
   "metadata": {},
   "outputs": [
    {
     "data": {
      "image/png": "[encoded data removed]",
      "text/plain": [
       "<Figure size 432x288 with 2 Axes>"
      ]
     },
     "metadata": {
      "needs_background": "light"
     },
     "output_type": "display_data"
    },
    {
     "data": {
      "image/png": "[encoded data removed]",
      "text/plain": [
       "<Figure size 432x288 with 2 Axes>"
      ]
     },
     "metadata": {
      "needs_background": "light"
     },
     "output_type": "display_data"
    },
    {
     "data": {
      "image/png": "[encoded data removed]",
      "text/plain": [
       "<Figure size 432x288 with 2 Axes>"
      ]
     },
     "metadata": {
      "needs_background": "light"
     },
     "output_type": "display_data"
    }
   ],
   "source": [
    "plt.imshow(c1[0,0].detach().cpu())\n",
    "plt.colorbar()\n",
    "plt.show()\n",
    "plt.imshow(c2[0,0].detach().cpu())\n",
    "plt.colorbar()\n",
    "plt.show()\n",
    "plt.imshow(c3[0,0].detach().cpu())\n",
    "plt.colorbar()\n",
    "plt.show()"
   ]
  },
  {
   "cell_type": "code",
   "execution_count": 134,
   "metadata": {},
   "outputs": [
    {
     "data": {
      "image/png": "[encoded data removed]",
      "text/plain": [
       "<Figure size 432x288 with 2 Axes>"
      ]
     },
     "metadata": {
      "needs_background": "light"
     },
     "output_type": "display_data"
    }
   ],
   "source": [
    "plt.imshow(input[0,0].detach().cpu())\n",
    "plt.colorbar()\n",
    "plt.show()"
   ]
  },
  {
   "cell_type": "code",
   "execution_count": 130,
   "metadata": {},
   "outputs": [
    {
     "data": {
      "text/plain": [
       "tensor([2, 6, 5, 6, 2, 9, 8, 1, 5, 6, 6, 6, 9, 2, 7, 4, 7, 8, 9, 2, 7, 1, 3, 9,\n",
       "        7, 0, 8, 0, 3, 1, 9, 2, 5, 2, 4, 6, 9, 9, 3, 7, 3, 4, 8, 7, 8, 5, 7, 0,\n",
       "        7, 4, 3, 4, 3, 1, 4, 3, 2, 0, 7, 9, 0, 0, 5, 3, 0, 6, 4, 8, 4, 5, 7, 0,\n",
       "        9, 8, 3, 0, 2, 1, 2, 0, 0, 4, 4, 5, 2, 8, 6, 9, 3, 9, 5, 4, 5, 4, 3, 9,\n",
       "        4, 8, 7, 5, 3, 8, 3, 5, 3, 8, 0, 0, 0, 8, 4, 1, 4, 0, 7, 1, 9, 1, 1, 3,\n",
       "        4, 4, 0, 8, 4, 0, 6, 5], device='cuda:0')"
      ]
     },
     "execution_count": 130,
     "metadata": {},
     "output_type": "execute_result"
    }
   ],
   "source": [
    "out, _,_,_ = model(input)\n",
    "torch.argmax(out, dim=1)"
   ]
  },
  {
   "cell_type": "code",
   "execution_count": 131,
   "metadata": {},
   "outputs": [
    {
     "data": {
      "text/plain": [
       "tensor([5, 6, 5, 6, 2, 9, 8, 1, 5, 6, 6, 6, 9, 2, 7, 7, 7, 8, 9, 2, 7, 1, 3, 9,\n",
       "        7, 0, 8, 1, 3, 1, 9, 2, 5, 2, 4, 6, 9, 9, 5, 7, 3, 4, 8, 7, 8, 6, 7, 2,\n",
       "        7, 4, 4, 3, 3, 1, 4, 3, 2, 8, 7, 9, 2, 2, 5, 2, 1, 6, 2, 8, 4, 5, 7, 2,\n",
       "        9, 8, 8, 0, 0, 1, 2, 4, 0, 7, 3, 2, 2, 8, 6, 9, 3, 9, 5, 4, 5, 4, 3, 9,\n",
       "        7, 8, 7, 5, 3, 8, 3, 5, 3, 1, 0, 0, 2, 8, 4, 1, 7, 0, 7, 1, 9, 1, 1, 5,\n",
       "        4, 4, 8, 8, 5, 0, 6, 5], device='cuda:0')"
      ]
     },
     "execution_count": 131,
     "metadata": {},
     "output_type": "execute_result"
    }
   ],
   "source": [
    "target"
   ]
  },
  {
   "cell_type": "code",
   "execution_count": 132,
   "metadata": {},
   "outputs": [
    {
     "data": {
      "text/plain": [
       "tensor(100, device='cuda:0')"
      ]
     },
     "execution_count": 132,
     "metadata": {},
     "output_type": "execute_result"
    }
   ],
   "source": [
    "(torch.argmax(out, dim=1) == target).sum()"
   ]
  },
  {
   "cell_type": "code",
   "execution_count": 133,
   "metadata": {},
   "outputs": [
    {
     "data": {
      "text/plain": [
       "128"
      ]
     },
     "execution_count": 133,
     "metadata": {},
     "output_type": "execute_result"
    }
   ],
   "source": [
    "len(target)"
   ]
  },
  {
   "cell_type": "code",
   "execution_count": null,
   "metadata": {},
   "outputs": [],
   "source": []
  }
 ],
 "metadata": {
  "interpreter": {
   "hash": "15b37510c40f952771730cdce6ed2555d8094a99b7d6886f5b16bebe3e0bdfae"
  },
  "kernelspec": {
   "display_name": "Python 3.9.7 ('HySpecLab')",
   "language": "python",
   "name": "python3"
  },
  "language_info": {
   "codemirror_mode": {
    "name": "ipython",
    "version": 3
   },
   "file_extension": ".py",
   "mimetype": "text/x-python",
   "name": "python",
   "nbconvert_exporter": "python",
   "pygments_lexer": "ipython3",
   "version": "3.9.7"
  },
  "orig_nbformat": 4
 },
 "nbformat": 4,
 "nbformat_minor": 2
}
