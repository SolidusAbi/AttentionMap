{
 "cells": [
  {
   "cell_type": "code",
   "execution_count": 1,
   "metadata": {},
   "outputs": [],
   "source": [
    "import os, sys\n",
    "project_dir = os.path.join(os.getcwd(),'..')\n",
    "if project_dir not in sys.path:\n",
    "    sys.path.append(project_dir)\n",
    "\n",
    "sparse_dir = os.path.join(project_dir, 'modules/Sparse')\n",
    "if sparse_dir not in sys.path:\n",
    "    sys.path.append(sparse_dir)\n",
    "\n",
    "import numpy as np\n",
    "import torch\n",
    "from torch import nn\n",
    "\n",
    "from torch.utils.data import DataLoader\n",
    "from torchvision.datasets import MNIST\n",
    "from torchvision.transforms import Compose, ToTensor"
   ]
  },
  {
   "cell_type": "code",
   "execution_count": 2,
   "metadata": {},
   "outputs": [],
   "source": [
    "from Sparse.functional import sparse_sigmoid"
   ]
  },
  {
   "cell_type": "code",
   "execution_count": 11,
   "metadata": {},
   "outputs": [
    {
     "data": {
      "text/plain": [
       "tensor(0.5125)"
      ]
     },
     "execution_count": 11,
     "metadata": {},
     "output_type": "execute_result"
    }
   ],
   "source": [
    "output = torch.rand((1,2,4,4))\n",
    "sparse_sigmoid.apply(torch.tensor(0.05), output, 1e-6)"
   ]
  },
  {
   "cell_type": "code",
   "execution_count": 12,
   "metadata": {},
   "outputs": [],
   "source": [
    "import torch\n",
    "from torch import sigmoid\n",
    "\n",
    "def kl_divergence(p: float, q: torch.Tensor, apply_sigmoid=True) -> torch.Tensor:\n",
    "    '''\n",
    "        Kullback-Leibler (KL) divergence between a Bernoulli random variable with mean\n",
    "        p and a Bernoulli random variable with mean q.\n",
    "\n",
    "        For convolutional output tensor (shape B,C,H,W) the kl divergence is estimated per\n",
    "        channel.\n",
    "\n",
    "        Params\n",
    "        ------\n",
    "            p: float\n",
    "                Sparsity parameter, typically a small value close to zero (i.e 0.05).\n",
    "\n",
    "            q: torch.Tensor\n",
    "                The output of a layer.\n",
    "\n",
    "            apply_sigmoid: Bolean\n",
    "                Indicate if it is necessary to apply sigmoid function to q in order to\n",
    "                obtain the probability distribution.\n",
    "        Return\n",
    "        ------\n",
    "            kl divergence estimation: torch.Tensor\n",
    "                In general return a unique value but in convolutional output the tensor\n",
    "                shape is defined by the number of Channels, i.e shape [1, C].\n",
    "    '''\n",
    "    # check if tensor belong to a convolutional output or not\n",
    "    dim = 2 if len(q.shape) == 4 else 1\n",
    "\n",
    "    q = sigmoid(q) if apply_sigmoid else q # sigmoid because we need the probability distributions\n",
    "\n",
    "    rho_hat = torch.mean(q.flatten(dim), dim) \n",
    "    rho = torch.ones(rho_hat.shape).to(q.device) * p\n",
    "    return torch.sum(rho * torch.log(rho/rho_hat) + (1 - rho) * torch.log((1 - rho)/(1 - rho_hat)), axis=0)"
   ]
  },
  {
   "cell_type": "code",
   "execution_count": 14,
   "metadata": {},
   "outputs": [
    {
     "data": {
      "text/plain": [
       "tensor(0.3692)"
      ]
     },
     "execution_count": 14,
     "metadata": {},
     "output_type": "execute_result"
    }
   ],
   "source": [
    "kl_divergence(0.05, output.flatten(1), apply_sigmoid=False)"
   ]
  },
  {
   "cell_type": "code",
   "execution_count": null,
   "metadata": {},
   "outputs": [],
   "source": []
  }
 ],
 "metadata": {
  "interpreter": {
   "hash": "fed6d6cd0ea97ce3b2d4e99f7713523d71a847210ef7afa8b6d15b0ad5dcd7d5"
  },
  "kernelspec": {
   "display_name": "Python 3.8.5 64-bit ('DeepLearning': conda)",
   "language": "python",
   "name": "python3"
  },
  "language_info": {
   "codemirror_mode": {
    "name": "ipython",
    "version": 3
   },
   "file_extension": ".py",
   "mimetype": "text/x-python",
   "name": "python",
   "nbconvert_exporter": "python",
   "pygments_lexer": "ipython3",
   "version": "3.8.5"
  },
  "orig_nbformat": 4
 },
 "nbformat": 4,
 "nbformat_minor": 2
}
