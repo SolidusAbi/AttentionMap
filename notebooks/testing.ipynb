{
 "cells": [
  {
   "cell_type": "code",
   "execution_count": 339,
   "metadata": {},
   "outputs": [],
   "source": [
    "import torch\n",
    "from torch import nn\n",
    "pool_h = nn.AdaptiveAvgPool2d((None, 1))\n",
    "pool_w = nn.AdaptiveAvgPool2d((1, None))\n",
    "conv1 = nn.Conv2d(1, 1, kernel_size=1, stride=1, padding=0, bias=True)"
   ]
  },
  {
   "cell_type": "code",
   "execution_count": 340,
   "metadata": {},
   "outputs": [
    {
     "name": "stdout",
     "output_type": "stream",
     "text": [
      "torch.Size([1, 1, 1, 28])\n",
      "torch.Size([1, 1, 28, 1])\n"
     ]
    }
   ],
   "source": [
    "a = torch.rand((1, 1, 28, 28))\n",
    "print(pool_w(a).shape)\n",
    "print(pool_h(a).shape)"
   ]
  },
  {
   "cell_type": "code",
   "execution_count": 341,
   "metadata": {},
   "outputs": [
    {
     "data": {
      "text/plain": [
       "<matplotlib.image.AxesImage at 0x7fc2e2454970>"
      ]
     },
     "execution_count": 341,
     "metadata": {},
     "output_type": "execute_result"
    },
    {
     "data": {
      "image/png": "[encoded data removed]",
      "text/plain": [
       "<Figure size 432x288 with 1 Axes>"
      ]
     },
     "metadata": {
      "needs_background": "light"
     },
     "output_type": "display_data"
    }
   ],
   "source": [
    "from matplotlib import pyplot as plt\n",
    "\n",
    "plt.imshow(a[0,0])"
   ]
  },
  {
   "cell_type": "code",
   "execution_count": 342,
   "metadata": {},
   "outputs": [],
   "source": [
    "n,c,h,w = a.size()\n",
    "\n",
    "x_h = pool_h(a)\n",
    "x_w = pool_w(a).permute(0, 1, 3, 2)\n",
    "\n",
    "y = torch.cat([x_h, x_w], dim=2)\n",
    "y = conv1(y)"
   ]
  },
  {
   "cell_type": "code",
   "execution_count": 343,
   "metadata": {},
   "outputs": [],
   "source": [
    "x_h, x_w = torch.split(y, [h, w], dim=2)\n",
    "x_w = x_w.permute(0, 1, 3, 2)"
   ]
  },
  {
   "cell_type": "code",
   "execution_count": 344,
   "metadata": {},
   "outputs": [
    {
     "name": "stdout",
     "output_type": "stream",
     "text": [
      "torch.Size([1, 1, 28, 1])\n",
      "torch.Size([1, 1, 1, 28])\n"
     ]
    }
   ],
   "source": [
    "print(x_h.shape)\n",
    "print(x_w.shape)"
   ]
  },
  {
   "cell_type": "code",
   "execution_count": 345,
   "metadata": {},
   "outputs": [
    {
     "data": {
      "text/plain": [
       "<matplotlib.image.AxesImage at 0x7fc2e201fb50>"
      ]
     },
     "execution_count": 345,
     "metadata": {},
     "output_type": "execute_result"
    },
    {
     "data": {
      "image/png": "[encoded data removed]",
      "text/plain": [
       "<Figure size 432x288 with 1 Axes>"
      ]
     },
     "metadata": {
      "needs_background": "light"
     },
     "output_type": "display_data"
    }
   ],
   "source": [
    "test = (x_h + x_w).detach()\n",
    "plt.imshow(test[0,0])"
   ]
  },
  {
   "cell_type": "code",
   "execution_count": 374,
   "metadata": {},
   "outputs": [
    {
     "name": "stdout",
     "output_type": "stream",
     "text": [
      "torch.Size([1, 1, 28, 28])\n"
     ]
    },
    {
     "data": {
      "image/png": "[encoded data removed]",
      "text/plain": [
       "<Figure size 432x288 with 2 Axes>"
      ]
     },
     "metadata": {
      "needs_background": "light"
     },
     "output_type": "display_data"
    }
   ],
   "source": [
    "n,c,h,w = a.size()\n",
    "\n",
    "x_h = pool_h(a)\n",
    "x_w = pool_w(a)\n",
    "# x_w = pool_w(a).permute(0, 1, 3, 2)\n",
    "\n",
    "\n",
    "\n",
    "conv2 = nn.Conv2d(1, 1, kernel_size=1, stride=1, padding=0, bias=False)\n",
    "conv3 = nn.Conv2d(1, 1, kernel_size=1, stride=1, padding=0, bias=False)\n",
    "\n",
    "# y = torch.relu(torch.cat([conv2(x_h), conv3(x_w)], dim=2))\n",
    "y = torch.relu(conv2(x_h) + conv3(x_w))\n",
    "y = conv1(y)\n",
    "print(y.shape)\n",
    "\n",
    "# x_h, x_w = torch.split(y, [h, w], dim=2)\n",
    "# x_w = x_w.permute(0, 1, 3, 2)\n",
    "# y = x_h + x_w\n",
    "\n",
    "# result = torch.softmax(y.view(n,1,-1), dim=2).view(n,1,h,w)\n",
    "result = y\n",
    "plt.imshow(result[0,0].detach())\n",
    "plt.colorbar()\n",
    "plt.show()"
   ]
  },
  {
   "cell_type": "code",
   "execution_count": 22,
   "metadata": {},
   "outputs": [
    {
     "name": "stdout",
     "output_type": "stream",
     "text": [
      "torch.Size([1, 1, 6, 1])\n",
      "torch.Size([1, 1, 1, 6])\n"
     ]
    }
   ],
   "source": [
    "a = torch.rand(1,1,6,6)\n",
    "\n",
    "n,c,h,w = a.size()\n",
    "\n",
    "x_h = pool_h(a)\n",
    "x_w = pool_w(a)\n",
    "\n",
    "print(x_h.shape)\n",
    "print(x_w.shape)"
   ]
  },
  {
   "cell_type": "code",
   "execution_count": 23,
   "metadata": {},
   "outputs": [
    {
     "data": {
      "text/plain": [
       "tensor([False, False, False, False, False, False])"
      ]
     },
     "execution_count": 23,
     "metadata": {},
     "output_type": "execute_result"
    }
   ],
   "source": [
    "x_h[0,0,0] == x_w[0,0,0]"
   ]
  },
  {
   "cell_type": "code",
   "execution_count": 27,
   "metadata": {},
   "outputs": [
    {
     "data": {
      "text/plain": [
       "tensor([[0.4622, 0.3816, 0.9419, 0.5707, 0.3580, 0.9998],\n",
       "        [0.6678, 0.8288, 0.3568, 0.6499, 0.1321, 0.9964],\n",
       "        [0.4967, 0.5736, 0.4732, 0.0773, 0.2777, 0.1808],\n",
       "        [0.8840, 0.3097, 0.6001, 0.7809, 0.8577, 0.5018],\n",
       "        [0.4824, 0.2988, 0.4430, 0.4190, 0.6261, 0.8830],\n",
       "        [0.6189, 0.7869, 0.3564, 0.5811, 0.3066, 0.9887]])"
      ]
     },
     "execution_count": 27,
     "metadata": {},
     "output_type": "execute_result"
    }
   ],
   "source": [
    "a.squeeze()"
   ]
  },
  {
   "cell_type": "code",
   "execution_count": 29,
   "metadata": {},
   "outputs": [
    {
     "data": {
      "text/plain": [
       "tensor([0.6190, 0.6053, 0.3466, 0.6557, 0.5254, 0.6064])"
      ]
     },
     "execution_count": 29,
     "metadata": {},
     "output_type": "execute_result"
    }
   ],
   "source": [
    "x_h.squeeze()"
   ]
  },
  {
   "cell_type": "code",
   "execution_count": 34,
   "metadata": {},
   "outputs": [
    {
     "data": {
      "text/plain": [
       "tensor([0.6020, 0.5299, 0.5286, 0.5132, 0.4264, 0.7584])"
      ]
     },
     "execution_count": 34,
     "metadata": {},
     "output_type": "execute_result"
    }
   ],
   "source": [
    "x_w.squeeze()"
   ]
  },
  {
   "cell_type": "code",
   "execution_count": 63,
   "metadata": {},
   "outputs": [],
   "source": [
    "_x_h = x_h.squeeze()\n",
    "_x_w = x_w.squeeze()\n",
    "\n",
    "test = torch.zeros((6,6))\n",
    "test += _x_h.T\n",
    "test += _x_w"
   ]
  },
  {
   "cell_type": "code",
   "execution_count": 64,
   "metadata": {},
   "outputs": [
    {
     "data": {
      "text/plain": [
       "tensor([[1.2210, 1.1352, 0.8751, 1.1688, 0.9517, 1.3648],\n",
       "        [1.2210, 1.1352, 0.8751, 1.1688, 0.9517, 1.3648],\n",
       "        [1.2210, 1.1352, 0.8751, 1.1688, 0.9517, 1.3648],\n",
       "        [1.2210, 1.1352, 0.8751, 1.1688, 0.9517, 1.3648],\n",
       "        [1.2210, 1.1352, 0.8751, 1.1688, 0.9517, 1.3648],\n",
       "        [1.2210, 1.1352, 0.8751, 1.1688, 0.9517, 1.3648]])"
      ]
     },
     "execution_count": 64,
     "metadata": {},
     "output_type": "execute_result"
    }
   ],
   "source": [
    "test"
   ]
  },
  {
   "cell_type": "code",
   "execution_count": null,
   "metadata": {},
   "outputs": [],
   "source": []
  }
 ],
 "metadata": {
  "interpreter": {
   "hash": "15b37510c40f952771730cdce6ed2555d8094a99b7d6886f5b16bebe3e0bdfae"
  },
  "kernelspec": {
   "display_name": "Python 3.9.7 ('HySpecLab')",
   "language": "python",
   "name": "python3"
  },
  "language_info": {
   "codemirror_mode": {
    "name": "ipython",
    "version": 3
   },
   "file_extension": ".py",
   "mimetype": "text/x-python",
   "name": "python",
   "nbconvert_exporter": "python",
   "pygments_lexer": "ipython3",
   "version": "3.9.7"
  },
  "orig_nbformat": 4
 },
 "nbformat": 4,
 "nbformat_minor": 2
}
