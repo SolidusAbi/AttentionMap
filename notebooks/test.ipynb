{
 "cells": [
  {
   "cell_type": "code",
   "execution_count": 1,
   "metadata": {},
   "outputs": [],
   "source": [
    "import os, sys\n",
    "project_dir = os.path.join(os.getcwd(),'..')\n",
    "if project_dir not in sys.path:\n",
    "    sys.path.append(project_dir)\n",
    "\n",
    "sparse_dir = os.path.join(project_dir, 'modules/Sparse')\n",
    "if sparse_dir not in sys.path:\n",
    "    sys.path.append(sparse_dir)\n",
    "\n",
    "import numpy as np\n",
    "import torch\n",
    "from torch import nn\n",
    "\n",
    "from torch.utils.data import DataLoader\n",
    "from torchvision.datasets import MNIST\n",
    "from torchvision.transforms import Compose, ToTensor"
   ]
  },
  {
   "cell_type": "code",
   "execution_count": 2,
   "metadata": {},
   "outputs": [],
   "source": [
    "transform = Compose([ToTensor()])\n",
    "dataset = MNIST('dataset/', train=True, transform=transform, download=True)\n",
    "\n",
    "loader = DataLoader(dataset, batch_size=64, shuffle=True)"
   ]
  },
  {
   "cell_type": "code",
   "execution_count": 3,
   "metadata": {},
   "outputs": [],
   "source": [
    "import AttentionMap\n",
    "\n",
    "model = nn.Sequential(*[\n",
    "    AttentionMap.Conv2d(1, 4, kernel_size=3, padding=1),\n",
    "    nn.ReLU(inplace=True),\n",
    "    nn.MaxPool2d(2),\n",
    "    AttentionMap.Conv2d(4, 12, kernel_size=3, padding=1),\n",
    "    nn.ReLU(inplace=True),\n",
    "    nn.MaxPool2d(2),\n",
    "    nn.Flatten(start_dim=1),\n",
    "    nn.Linear(588, 128),\n",
    "    nn.ReLU(inplace=True),\n",
    "    nn.Linear(128, 32),\n",
    "    nn.ReLU(inplace=True),\n",
    "    nn.Linear(32, 10),\n",
    "    # nn.LogSoftmax(dim=1)\n",
    "])"
   ]
  },
  {
   "cell_type": "code",
   "execution_count": 4,
   "metadata": {},
   "outputs": [
    {
     "name": "stderr",
     "output_type": "stream",
     "text": [
      "100%|██████████| 20/20 [04:14<00:00, 12.73s/epoch, tls=0.0624]\n"
     ]
    }
   ],
   "source": [
    "from tqdm import tqdm\n",
    "\n",
    "n_epoch = 20\n",
    "optimizer = torch.optim.Adam(model.parameters(), lr=5e-4)\n",
    "criterion = nn.CrossEntropyLoss()\n",
    "\n",
    "device = 'cuda' if torch.cuda.is_available() else 'cpu'\n",
    "\n",
    "model = model.to(device)\n",
    "\n",
    "epoch_iterator = tqdm(\n",
    "        range(n_epoch),\n",
    "        leave=True,\n",
    "        unit=\"epoch\",\n",
    "        postfix={\"tls\": \"%.4f\" % 1},\n",
    "    )\n",
    "\n",
    "for epoch in epoch_iterator:\n",
    "    for idx, (input, target) in enumerate(loader):\n",
    "        input = input.to(device)\n",
    "        target = target.to(device)\n",
    "\n",
    "        out = model(input)\n",
    "        loss = criterion(out, target)\n",
    "\n",
    "        if idx % 500 == 0:\n",
    "            epoch_iterator.set_postfix(tls=\"%.4f\" % np.mean(loss.detach().item()))\n",
    "\n",
    "        optimizer.zero_grad()\n",
    "        loss.backward()\n",
    "        optimizer.step()"
   ]
  },
  {
   "cell_type": "code",
   "execution_count": 12,
   "metadata": {},
   "outputs": [],
   "source": [
    "am = model[0]\n",
    "att = am.attention_map(input.to(device))[0].detach().cpu()\n",
    "conv = am.conv(input.to(device))[0].detach().cpu()\n",
    "result = am(input.to(device))[0].detach().cpu()"
   ]
  },
  {
   "cell_type": "code",
   "execution_count": 13,
   "metadata": {},
   "outputs": [
    {
     "data": {
      "text/plain": [
       "<matplotlib.image.AxesImage at 0x7fc3204523a0>"
      ]
     },
     "execution_count": 13,
     "metadata": {},
     "output_type": "execute_result"
    },
    {
     "data": {
      "image/png": "[encoded data removed]",
      "text/plain": [
       "<Figure size 432x288 with 3 Axes>"
      ]
     },
     "metadata": {
      "needs_background": "light"
     },
     "output_type": "display_data"
    }
   ],
   "source": [
    "from matplotlib import pyplot as plt\n",
    "\n",
    "fig, ax = plt.subplots(1,3)\n",
    "ax[0].imshow(att[0].detach().cpu())\n",
    "ax[1].imshow(conv[0].detach().cpu())\n",
    "ax[2].imshow(result[0].detach().cpu())"
   ]
  },
  {
   "cell_type": "code",
   "execution_count": 7,
   "metadata": {},
   "outputs": [],
   "source": [
    "input_lvl3 = model[:3](input.to(device))\n",
    "am = model[3]\n",
    "att = am.attention_map(input_lvl3.to(device))[0].detach().cpu()\n",
    "conv = am.conv(input_lvl3.to(device))[0].detach().cpu()\n",
    "result = am(input_lvl3.to(device))[0].detach().cpu()"
   ]
  },
  {
   "cell_type": "code",
   "execution_count": 8,
   "metadata": {},
   "outputs": [
    {
     "data": {
      "text/plain": [
       "<matplotlib.image.AxesImage at 0x7fc32070b910>"
      ]
     },
     "execution_count": 8,
     "metadata": {},
     "output_type": "execute_result"
    },
    {
     "data": {
      "image/png": "[encoded data removed]",
      "text/plain": [
       "<Figure size 432x288 with 3 Axes>"
      ]
     },
     "metadata": {
      "needs_background": "light"
     },
     "output_type": "display_data"
    }
   ],
   "source": [
    "from matplotlib import pyplot as plt\n",
    "\n",
    "fig, ax = plt.subplots(1,3)\n",
    "ax[0].imshow(att[0].detach().cpu())\n",
    "ax[1].imshow(conv[2].detach().cpu())\n",
    "ax[2].imshow(result[2].detach().cpu())"
   ]
  },
  {
   "cell_type": "code",
   "execution_count": 10,
   "metadata": {},
   "outputs": [
    {
     "data": {
      "text/plain": [
       "(array([ 45.,   6.,   3.,   4., 114.,   3.,   2.,   0.,   0.,   0.,   1.,\n",
       "          2.,   0.,   1.,   0.,   0.,   1.,   0.,   0.,   0.,   1.,   0.,\n",
       "          2.,   2.,   9.]),\n",
       " array([1.6598379e-18, 1.9790381e-02, 3.9580762e-02, 5.9371144e-02,\n",
       "        7.9161525e-02, 9.8951906e-02, 1.1874229e-01, 1.3853267e-01,\n",
       "        1.5832305e-01, 1.7811343e-01, 1.9790381e-01, 2.1769419e-01,\n",
       "        2.3748457e-01, 2.5727496e-01, 2.7706534e-01, 2.9685572e-01,\n",
       "        3.1664610e-01, 3.3643648e-01, 3.5622686e-01, 3.7601724e-01,\n",
       "        3.9580762e-01, 4.1559801e-01, 4.3538839e-01, 4.5517877e-01,\n",
       "        4.7496915e-01, 4.9475953e-01], dtype=float32),\n",
       " <BarContainer object of 25 artists>)"
      ]
     },
     "execution_count": 10,
     "metadata": {},
     "output_type": "execute_result"
    },
    {
     "data": {
      "image/png": "[encoded data removed]",
      "text/plain": [
       "<Figure size 432x288 with 1 Axes>"
      ]
     },
     "metadata": {
      "needs_background": "light"
     },
     "output_type": "display_data"
    }
   ],
   "source": [
    "plt.hist(att[0].cpu().flatten().detach().numpy(), bins=25)"
   ]
  },
  {
   "cell_type": "code",
   "execution_count": null,
   "metadata": {},
   "outputs": [],
   "source": []
  }
 ],
 "metadata": {
  "interpreter": {
   "hash": "fed6d6cd0ea97ce3b2d4e99f7713523d71a847210ef7afa8b6d15b0ad5dcd7d5"
  },
  "kernelspec": {
   "display_name": "Python 3.8.5 64-bit ('DeepLearning': conda)",
   "language": "python",
   "name": "python3"
  },
  "language_info": {
   "codemirror_mode": {
    "name": "ipython",
    "version": 3
   },
   "file_extension": ".py",
   "mimetype": "text/x-python",
   "name": "python",
   "nbconvert_exporter": "python",
   "pygments_lexer": "ipython3",
   "version": "3.8.5"
  },
  "orig_nbformat": 4
 },
 "nbformat": 4,
 "nbformat_minor": 2
}
